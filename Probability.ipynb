{
  "nbformat": 4,
  "nbformat_minor": 0,
  "metadata": {
    "colab": {
      "name": "Probability.ipynb",
      "version": "0.3.2",
      "provenance": [],
      "include_colab_link": true
    },
    "kernelspec": {
      "name": "python3",
      "display_name": "Python 3"
    }
  },
  "cells": [
    {
      "cell_type": "markdown",
      "metadata": {
        "id": "view-in-github",
        "colab_type": "text"
      },
      "source": [
        "[View in Colaboratory](https://colab.research.google.com/github/DeepankJain/PimaIndiansDiabetes/blob/master/Probability.ipynb)"
      ]
    },
    {
      "metadata": {
        "id": "oTDcR5VuLNPC",
        "colab_type": "code",
        "colab": {}
      },
      "cell_type": "code",
      "source": [
        "from fractions import Fraction"
      ],
      "execution_count": 0,
      "outputs": []
    },
    {
      "metadata": {
        "id": "oZepx25PLVG3",
        "colab_type": "code",
        "colab": {
          "base_uri": "https://localhost:8080/",
          "height": 34
        },
        "outputId": "c66720f1-7ad7-47ac-f9da-13a2ee5ed5c2"
      },
      "cell_type": "code",
      "source": [
        "#Question 1. \n",
        "def Cprob(A,B,AB):\n",
        "    BA=\"%.3f\"%((AB*B)/A)\n",
        "    print (\"P(B|A) = \",Fraction(BA))\n",
        "    \n",
        "Cprob(11/36,6/36,2/36)"
      ],
      "execution_count": 3,
      "outputs": [
        {
          "output_type": "stream",
          "text": [
            "P(B|A) =  3/100\n"
          ],
          "name": "stdout"
        }
      ]
    },
    {
      "metadata": {
        "id": "Mb5mpa3aLjZg",
        "colab_type": "code",
        "colab": {
          "base_uri": "https://localhost:8080/",
          "height": 34
        },
        "outputId": "b50fc360-acde-42f8-e721-646cb4c79a5a"
      },
      "cell_type": "code",
      "source": [
        "#Question 2.\n",
        "black_bag_1=(6/10)*(1/2)\n",
        "black_bag_2=(3/7)*(1/2)\n",
        "p=\"%.3f\"%(black_bag_1/(black_bag_1+black_bag_2))\n",
        "print(\"Probability of Black Ball From Bag 1 = \",Fraction(p))"
      ],
      "execution_count": 4,
      "outputs": [
        {
          "output_type": "stream",
          "text": [
            "Probability of Black Ball From Bag 1 =  583/1000\n"
          ],
          "name": "stdout"
        }
      ]
    },
    {
      "metadata": {
        "id": "fhgcjDZOLomu",
        "colab_type": "code",
        "colab": {
          "base_uri": "https://localhost:8080/",
          "height": 34
        },
        "outputId": "926e3900-94e8-410b-a8ae-2a8ac6cd00a1"
      },
      "cell_type": "code",
      "source": [
        "#Question 3.\n",
        "p_truth_4=(2/3)*(1/6)\n",
        "p_lie_4=(1/3)*(5/6)\n",
        "\n",
        "p=\"%.3f\"%(p_truth_4/(p_truth_4+p_lie_4))\n",
        "print(\"Probability of Truth= \",Fraction(p))"
      ],
      "execution_count": 5,
      "outputs": [
        {
          "output_type": "stream",
          "text": [
            "Probability of Truth=  143/500\n"
          ],
          "name": "stdout"
        }
      ]
    },
    {
      "metadata": {
        "id": "GdetRGDjLsji",
        "colab_type": "code",
        "colab": {}
      },
      "cell_type": "code",
      "source": [
        ""
      ],
      "execution_count": 0,
      "outputs": []
    }
  ]
}